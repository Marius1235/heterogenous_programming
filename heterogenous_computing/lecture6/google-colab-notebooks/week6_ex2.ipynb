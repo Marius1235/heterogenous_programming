{
  "nbformat": 4,
  "nbformat_minor": 0,
  "metadata": {
    "colab": {
      "provenance": [],
      "collapsed_sections": []
    },
    "kernelspec": {
      "name": "python3",
      "display_name": "Python 3"
    },
    "language_info": {
      "name": "python"
    },
    "accelerator": "GPU"
  },
  "cells": [
    {
      "cell_type": "code",
      "execution_count": null,
      "metadata": {
        "colab": {
          "base_uri": "https://localhost:8080/"
        },
        "id": "BME7MSt-3-j3",
        "outputId": "5aeeb8bb-4915-4347-e57c-31117408a799"
      },
      "outputs": [
        {
          "output_type": "stream",
          "name": "stdout",
          "text": [
            "The following is for exercise 2\n"
          ]
        }
      ],
      "source": [
        "print(\"The following is for exercise 2\")"
      ]
    },
    {
      "cell_type": "code",
      "source": [
        "!pip install pycuda # install cuda\n",
        "import pycuda.driver as cuda\n",
        "import pycuda.autoinit\n",
        "from pycuda.compiler import SourceModule"
      ],
      "metadata": {
        "id": "QdfS5PoG4UZl"
      },
      "execution_count": null,
      "outputs": []
    },
    {
      "cell_type": "code",
      "source": [
        "import numpy\n",
        "numpy.random.seed(1)\n",
        "a = numpy.random.randn(128)"
      ],
      "metadata": {
        "id": "4UrstbFGZsrD"
      },
      "execution_count": null,
      "outputs": []
    },
    {
      "cell_type": "code",
      "source": [
        "# Convert values from double precision to single precision (requirement for CUDA)\n",
        "a = a.astype(numpy.float32)"
      ],
      "metadata": {
        "id": "-plCFVdgaJbq"
      },
      "execution_count": null,
      "outputs": []
    },
    {
      "cell_type": "code",
      "source": [
        "# Allocate memory in device\n",
        "a_gpu = cuda.mem_alloc(a.nbytes)"
      ],
      "metadata": {
        "id": "_0TJn---aXxU"
      },
      "execution_count": null,
      "outputs": []
    },
    {
      "cell_type": "code",
      "source": [
        "# Copy array data from a to a_gpu (from host to device)\n",
        "cuda.memcpy_htod(a_gpu, a)"
      ],
      "metadata": {
        "id": "kVyKBQ9TaZZf"
      },
      "execution_count": null,
      "outputs": []
    },
    {
      "cell_type": "code",
      "source": [
        "# Create CUDA kernel\n",
        "mod = SourceModule(\"\"\"\n",
        "  __global__ void doublify(float *a)\n",
        "  {\n",
        "    int idx = blockDim.x * blockIdx.x + threadIdx.x;\n",
        "    a[idx] *= 2;\n",
        "  }\n",
        "  \"\"\")"
      ],
      "metadata": {
        "id": "uxie1FSFbQ3U"
      },
      "execution_count": null,
      "outputs": []
    },
    {
      "cell_type": "code",
      "source": [
        "# Here we choose the block and grid dimensions\n",
        "# TODO: add grid dimensions\n",
        "grid_dim = (1,1)\n",
        "# TODO: add block dimensions\n",
        "block_dim = (128,1,1)\n",
        "func = mod.get_function(\"doublify\")\n",
        "func(a_gpu, block=block_dim, grid = grid_dim)"
      ],
      "metadata": {
        "id": "djSXc2u6bUeS"
      },
      "execution_count": null,
      "outputs": []
    },
    {
      "cell_type": "code",
      "source": [
        "a_doubled = numpy.empty_like(a)\n",
        "cuda.memcpy_dtoh(a_doubled, a_gpu)\n",
        "print(a_doubled[:10])\n",
        "print(a[:10])"
      ],
      "metadata": {
        "id": "R0dzxuFTbde-"
      },
      "execution_count": null,
      "outputs": []
    }
  ]
}