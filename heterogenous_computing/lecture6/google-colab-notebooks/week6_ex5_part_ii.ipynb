{
  "nbformat": 4,
  "nbformat_minor": 0,
  "metadata": {
    "colab": {
      "provenance": [],
      "collapsed_sections": []
    },
    "kernelspec": {
      "name": "python3",
      "display_name": "Python 3"
    },
    "language_info": {
      "name": "python"
    },
    "accelerator": "GPU"
  },
  "cells": [
    {
      "cell_type": "code",
      "execution_count": null,
      "metadata": {
        "colab": {
          "base_uri": "https://localhost:8080/"
        },
        "id": "BME7MSt-3-j3",
        "outputId": "5355d974-7784-4c12-becf-4ae8fad1f62b"
      },
      "outputs": [
        {
          "output_type": "stream",
          "name": "stdout",
          "text": [
            "The following is for exercise 5 part ii\n"
          ]
        }
      ],
      "source": [
        "print(\"The following is for exercise 5 part ii\")"
      ]
    },
    {
      "cell_type": "code",
      "source": [
        "!pip install pycuda # install cuda\n",
        "import pycuda.driver as cuda\n",
        "import pycuda.autoinit\n",
        "from pycuda.compiler import SourceModule"
      ],
      "metadata": {
        "id": "QdfS5PoG4UZl"
      },
      "execution_count": null,
      "outputs": []
    },
    {
      "cell_type": "code",
      "source": [
        "import numpy\n",
        "numpy.random.seed(1)\n",
        "a = numpy.random.randn(128)"
      ],
      "metadata": {
        "id": "4UrstbFGZsrD"
      },
      "execution_count": null,
      "outputs": []
    },
    {
      "cell_type": "code",
      "source": [
        "# Convert values from double precision to single precision (requirement for CUDA)\n",
        "a = a.astype(numpy.float32)\n",
        "sub_array = a[0::4]\n",
        "sub_array = list(sub_array)\n",
        "sub_array = numpy.array(sub_array)"
      ],
      "metadata": {
        "id": "-plCFVdgaJbq"
      },
      "execution_count": null,
      "outputs": []
    },
    {
      "cell_type": "code",
      "source": [
        "# Allocate memory in device\n",
        "a_gpu = cuda.mem_alloc(sub_array.nbytes)"
      ],
      "metadata": {
        "id": "_0TJn---aXxU"
      },
      "execution_count": null,
      "outputs": []
    },
    {
      "cell_type": "code",
      "source": [
        "# Copy array data from a to a_gpu (from host to device)\n",
        "cuda.memcpy_htod(a_gpu, sub_array)"
      ],
      "metadata": {
        "id": "kVyKBQ9TaZZf"
      },
      "execution_count": null,
      "outputs": []
    },
    {
      "cell_type": "code",
      "source": [
        "# Create CUDA kernel\n",
        "mod = SourceModule(\"\"\"\n",
        "  __global__ void doublify(float *a)\n",
        "  {\n",
        "    int idx = blockIdx.x*blockDim.x + threadIdx.x;\n",
        "    \n",
        "    a[idx] *= 2;\n",
        "  }\n",
        "  \"\"\")"
      ],
      "metadata": {
        "id": "uxie1FSFbQ3U"
      },
      "execution_count": null,
      "outputs": []
    },
    {
      "cell_type": "code",
      "source": [
        "# Here we choose the block and grid dimensions\n",
        "# TODO: add grid dimensions\n",
        "grid_dim = (1,1)\n",
        "# TODO: add block dimensions\n",
        "block_dim = (32,1,1)\n",
        "func = mod.get_function(\"doublify\")\n",
        "func(a_gpu, block=block_dim, grid = grid_dim)"
      ],
      "metadata": {
        "id": "djSXc2u6bUeS"
      },
      "execution_count": null,
      "outputs": []
    },
    {
      "cell_type": "code",
      "source": [
        "sub_array_doubled = numpy.empty_like(sub_array)\n",
        "cuda.memcpy_dtoh(sub_array_doubled, a_gpu)\n"
      ],
      "metadata": {
        "id": "R0dzxuFTbde-"
      },
      "execution_count": null,
      "outputs": []
    },
    {
      "cell_type": "code",
      "source": [
        "# We now have the doubled 32 elements \n",
        "\n",
        "# We need to now put them back into the original array, a\n",
        "\n",
        "# But for testing purposes, lets keep the orginal array a and make a copy of it\n",
        "\n",
        "a_copy = a\n",
        "\n",
        "a_copy[0::4] = sub_array_doubled\n",
        "\n",
        "# we'll print to see if every 4th element has been doubled \n",
        "print(\"Original values\")\n",
        "print(a[:10])\n",
        "\n",
        "print(\"4th doubled values\")\n",
        "print(a_copy[:10])"
      ],
      "metadata": {
        "id": "jgM8K8LzRW9S"
      },
      "execution_count": null,
      "outputs": []
    }
  ]
}