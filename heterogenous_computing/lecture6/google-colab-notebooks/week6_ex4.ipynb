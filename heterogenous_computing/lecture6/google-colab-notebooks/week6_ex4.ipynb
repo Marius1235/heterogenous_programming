{
  "nbformat": 4,
  "nbformat_minor": 0,
  "metadata": {
    "colab": {
      "provenance": [],
      "collapsed_sections": []
    },
    "kernelspec": {
      "name": "python3",
      "display_name": "Python 3"
    },
    "language_info": {
      "name": "python"
    },
    "accelerator": "GPU"
  },
  "cells": [
    {
      "cell_type": "code",
      "execution_count": null,
      "metadata": {
        "colab": {
          "base_uri": "https://localhost:8080/"
        },
        "id": "BME7MSt-3-j3",
        "outputId": "5f16a341-7f41-40b1-899d-de9cbda6ffd1"
      },
      "outputs": [
        {
          "output_type": "stream",
          "name": "stdout",
          "text": [
            "The following is for exercise 4\n"
          ]
        }
      ],
      "source": [
        "print(\"The following is for exercise 4\")"
      ]
    },
    {
      "cell_type": "code",
      "source": [
        "!pip install pycuda # install cuda\n",
        "import pycuda.driver as cuda\n",
        "import pycuda.autoinit\n",
        "from pycuda.compiler import SourceModule"
      ],
      "metadata": {
        "id": "QdfS5PoG4UZl"
      },
      "execution_count": null,
      "outputs": []
    },
    {
      "cell_type": "code",
      "source": [
        "import numpy\n",
        "numpy.random.seed(1)\n",
        "a = numpy.random.randn(128)"
      ],
      "metadata": {
        "id": "4UrstbFGZsrD"
      },
      "execution_count": null,
      "outputs": []
    },
    {
      "cell_type": "code",
      "source": [
        "# Convert values from double precision to single precision (requirement for CUDA)\n",
        "a = a.astype(numpy.float32)"
      ],
      "metadata": {
        "id": "-plCFVdgaJbq"
      },
      "execution_count": null,
      "outputs": []
    },
    {
      "cell_type": "code",
      "source": [
        "# Allocate memory in device\n",
        "a_gpu = cuda.mem_alloc(a.nbytes)"
      ],
      "metadata": {
        "id": "_0TJn---aXxU"
      },
      "execution_count": null,
      "outputs": []
    },
    {
      "cell_type": "code",
      "source": [
        "# Copy array data from a to a_gpu (from host to device)\n",
        "cuda.memcpy_htod(a_gpu, a)"
      ],
      "metadata": {
        "id": "kVyKBQ9TaZZf"
      },
      "execution_count": null,
      "outputs": []
    },
    {
      "cell_type": "code",
      "source": [
        "# Create CUDA kernel\n",
        "mod = SourceModule(\"\"\"\n",
        "  __global__ void doublify(float *a)\n",
        "  {\n",
        "    int idx = blockIdx.x*blockDim.x*2 + threadIdx.x;\n",
        "    int offset = blockDim.x*2;\n",
        "    \n",
        "    a[idx] *= 2;\n",
        "    a[idx + offset] *= 2;\n",
        "  }\n",
        "  \"\"\")"
      ],
      "metadata": {
        "id": "uxie1FSFbQ3U"
      },
      "execution_count": null,
      "outputs": []
    },
    {
      "cell_type": "code",
      "source": [
        "# Here we choose the block and grid dimensions\n",
        "# TODO: add grid dimensions\n",
        "grid_dim = (2,1)\n",
        "# TODO: add block dimensions\n",
        "block_dim = (32,1,1)\n",
        "func = mod.get_function(\"doublify\")\n",
        "func(a_gpu, block=block_dim, grid = grid_dim)"
      ],
      "metadata": {
        "id": "djSXc2u6bUeS"
      },
      "execution_count": null,
      "outputs": []
    },
    {
      "cell_type": "code",
      "source": [
        "a_doubled = numpy.empty_like(a)\n",
        "cuda.memcpy_dtoh(a_doubled, a_gpu)\n",
        "print(a_doubled[:10])\n",
        "print(a[:10])"
      ],
      "metadata": {
        "id": "R0dzxuFTbde-",
        "colab": {
          "base_uri": "https://localhost:8080/"
        },
        "outputId": "d3b6d087-4da0-46e0-ef88-d8b3512af56a"
      },
      "execution_count": null,
      "outputs": [
        {
          "output_type": "stream",
          "name": "stdout",
          "text": [
            "[ 3.2486908  -1.2235128  -1.0563436  -2.1459372   1.7308153  -4.6030774\n",
            "  3.4896235  -1.5224138   0.6380782  -0.49874076]\n",
            "[ 1.6243454  -0.6117564  -0.5281718  -1.0729686   0.86540765 -2.3015387\n",
            "  1.7448118  -0.7612069   0.3190391  -0.24937038]\n"
          ]
        }
      ]
    }
  ]
}