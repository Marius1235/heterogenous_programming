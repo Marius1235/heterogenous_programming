{
 "cells": [
  {
   "cell_type": "code",
   "execution_count": null,
   "metadata": {
    "colab": {
     "base_uri": "https://localhost:8080/"
    },
    "id": "BME7MSt-3-j3",
    "outputId": "66694efb-3b48-4568-9312-82a4ff8b5d84"
   },
   "outputs": [
    {
     "name": "stdout",
     "output_type": "stream",
     "text": [
      "The notebook is a template file for exercises 2,3 and 4. Please create a copy of this notebook for each exercise.\n"
     ]
    }
   ],
   "source": [
    "print(\"The notebook is a template file for exercises 2,3 and 4. Please create a copy of this notebook for each exercise.\")"
   ]
  },
  {
   "cell_type": "code",
   "execution_count": null,
   "metadata": {
    "colab": {
     "base_uri": "https://localhost:8080/"
    },
    "id": "QdfS5PoG4UZl",
    "outputId": "94351622-91b7-4885-fa0f-56fddfba9d10"
   },
   "outputs": [
    {
     "name": "stdout",
     "output_type": "stream",
     "text": [
      "Looking in indexes: https://pypi.org/simple, https://us-python.pkg.dev/colab-wheels/public/simple/\n",
      "Collecting pycuda\n",
      "  Downloading pycuda-2022.1.tar.gz (1.7 MB)\n",
      "\u001b[K     |████████████████████████████████| 1.7 MB 36.1 MB/s \n",
      "\u001b[?25h  Installing build dependencies ... \u001b[?25l\u001b[?25hdone\n",
      "  Getting requirements to build wheel ... \u001b[?25l\u001b[?25hdone\n",
      "    Preparing wheel metadata ... \u001b[?25l\u001b[?25hdone\n",
      "Requirement already satisfied: appdirs>=1.4.0 in /usr/local/lib/python3.7/dist-packages (from pycuda) (1.4.4)\n",
      "Collecting pytools>=2011.2\n",
      "  Downloading pytools-2022.1.12.tar.gz (70 kB)\n",
      "\u001b[K     |████████████████████████████████| 70 kB 9.8 MB/s \n",
      "\u001b[?25hCollecting mako\n",
      "  Downloading Mako-1.2.3-py3-none-any.whl (78 kB)\n",
      "\u001b[K     |████████████████████████████████| 78 kB 7.4 MB/s \n",
      "\u001b[?25hCollecting platformdirs>=2.2.0\n",
      "  Downloading platformdirs-2.5.2-py3-none-any.whl (14 kB)\n",
      "Requirement already satisfied: typing_extensions>=4.0 in /usr/local/lib/python3.7/dist-packages (from pytools>=2011.2->pycuda) (4.1.1)\n",
      "Requirement already satisfied: MarkupSafe>=0.9.2 in /usr/local/lib/python3.7/dist-packages (from mako->pycuda) (2.0.1)\n",
      "Requirement already satisfied: importlib-metadata in /usr/local/lib/python3.7/dist-packages (from mako->pycuda) (4.12.0)\n",
      "Requirement already satisfied: zipp>=0.5 in /usr/local/lib/python3.7/dist-packages (from importlib-metadata->mako->pycuda) (3.8.1)\n",
      "Building wheels for collected packages: pycuda, pytools\n",
      "  Building wheel for pycuda (PEP 517) ... \u001b[?25l\u001b[?25hdone\n",
      "  Created wheel for pycuda: filename=pycuda-2022.1-cp37-cp37m-linux_x86_64.whl size=629484 sha256=be8c75c48c039462978288f01aca59b989b85a00afb07d37b2236ef368d50190\n",
      "  Stored in directory: /root/.cache/pip/wheels/17/53/c9/caa05618e686df51f017d8a9923f38d915ce31df67ab6628e6\n",
      "  Building wheel for pytools (setup.py) ... \u001b[?25l\u001b[?25hdone\n",
      "  Created wheel for pytools: filename=pytools-2022.1.12-py2.py3-none-any.whl size=65034 sha256=7f0027f4488e67350d509beb8dcb2bd424088b458f70facf1ab307fbe431393a\n",
      "  Stored in directory: /root/.cache/pip/wheels/37/5e/9e/76d7430e116b7cab0016fbabb26b896daae1946a3f7dea9915\n",
      "Successfully built pycuda pytools\n",
      "Installing collected packages: platformdirs, pytools, mako, pycuda\n",
      "Successfully installed mako-1.2.3 platformdirs-2.5.2 pycuda-2022.1 pytools-2022.1.12\n"
     ]
    }
   ],
   "source": [
    "!pip install pycuda # install cuda\n",
    "import pycuda.driver as cuda\n",
    "import pycuda.autoinit\n",
    "from pycuda.compiler import SourceModule"
   ]
  },
  {
   "cell_type": "code",
   "execution_count": null,
   "metadata": {
    "id": "4UrstbFGZsrD"
   },
   "outputs": [],
   "source": [
    "import numpy\n",
    "numpy.random.seed(1)\n",
    "a = numpy.random.randn(128)"
   ]
  },
  {
   "cell_type": "code",
   "execution_count": null,
   "metadata": {
    "id": "-plCFVdgaJbq"
   },
   "outputs": [],
   "source": [
    "# Convert values from double precision to single precision (requirement for CUDA)\n",
    "a = a.astype(numpy.float32)"
   ]
  },
  {
   "cell_type": "code",
   "execution_count": null,
   "metadata": {
    "id": "_0TJn---aXxU"
   },
   "outputs": [],
   "source": [
    "# Allocate memory in device\n",
    "a_gpu = cuda.mem_alloc(a.nbytes)"
   ]
  },
  {
   "cell_type": "code",
   "execution_count": null,
   "metadata": {
    "id": "kVyKBQ9TaZZf"
   },
   "outputs": [],
   "source": [
    "# Copy array data from a to a_gpu (from host to device)\n",
    "cuda.memcpy_htod(a_gpu, a)"
   ]
  },
  {
   "cell_type": "code",
   "execution_count": null,
   "metadata": {
    "id": "uxie1FSFbQ3U"
   },
   "outputs": [],
   "source": [
    "# Create CUDA kernel\n",
    "mod = SourceModule(\"\"\"\n",
    "  __global__ void doublify(float *a)\n",
    "  {\n",
    "    // Modify below - TODO: write your mapping expression here\n",
    "    int idx = 0;\n",
    "    \n",
    "    a[idx] *= 2;\n",
    "  }\n",
    "  \"\"\")"
   ]
  },
  {
   "cell_type": "code",
   "execution_count": null,
   "metadata": {
    "id": "djSXc2u6bUeS"
   },
   "outputs": [],
   "source": [
    "# Here we choose the block and grid dimensions\n",
    "# TODO: add grid dimensions\n",
    "grid_dim = (0,1)\n",
    "# TODO: add block dimensions\n",
    "block_dim = (0,1,1)\n",
    "func = mod.get_function(\"doublify\")\n",
    "func(a_gpu, block=block_dim, grid = grid_dim)"
   ]
  },
  {
   "cell_type": "code",
   "execution_count": null,
   "metadata": {
    "colab": {
     "base_uri": "https://localhost:8080/"
    },
    "id": "R0dzxuFTbde-",
    "outputId": "4db326d1-86a8-41bc-94c3-d165b0f66259"
   },
   "outputs": [
    {
     "name": "stdout",
     "output_type": "stream",
     "text": [
      "[ 3.2486908  -0.6117564  -0.5281718  -1.0729686   0.86540765 -2.3015387\n",
      "  1.7448118  -0.7612069   0.3190391  -0.24937038]\n",
      "[ 1.6243454  -0.6117564  -0.5281718  -1.0729686   0.86540765 -2.3015387\n",
      "  1.7448118  -0.7612069   0.3190391  -0.24937038]\n"
     ]
    }
   ],
   "source": [
    "a_doubled = numpy.empty_like(a)\n",
    "cuda.memcpy_dtoh(a_doubled, a_gpu)\n",
    "print(a_doubled[:10])\n",
    "print(a[:10])"
   ]
  }
 ],
 "metadata": {
  "accelerator": "GPU",
  "colab": {
   "collapsed_sections": [],
   "provenance": []
  },
  "kernelspec": {
   "display_name": "Python 3 (ipykernel)",
   "language": "python",
   "name": "python3"
  },
  "language_info": {
   "codemirror_mode": {
    "name": "ipython",
    "version": 3
   },
   "file_extension": ".py",
   "mimetype": "text/x-python",
   "name": "python",
   "nbconvert_exporter": "python",
   "pygments_lexer": "ipython3",
   "version": "3.9.7"
  }
 },
 "nbformat": 4,
 "nbformat_minor": 1
}
