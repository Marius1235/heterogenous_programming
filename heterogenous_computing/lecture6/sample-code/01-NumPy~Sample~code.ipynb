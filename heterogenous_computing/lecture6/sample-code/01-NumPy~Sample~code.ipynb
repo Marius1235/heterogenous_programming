{
 "cells": [
  {
   "cell_type": "markdown",
   "metadata": {},
   "source": [
    "# Sample Code for lecture~06 \n",
    "Heterogeneous Computing for AI [PG2015]\n",
    "\n",
    "\n",
    "Raghava Mukkamala (rrm.digi@cbs.dk, Copenhagen Business School, Denmark\n",
    "\n",
    "https://raghavamukkamala.github.io/"
   ]
  },
  {
   "cell_type": "markdown",
   "metadata": {},
   "source": [
    "### Motivation for NumPy Arrays\n",
    "[taken from datacamp exercises]"
   ]
  },
  {
   "cell_type": "code",
   "execution_count": 1,
   "metadata": {},
   "outputs": [
    {
     "name": "stdout",
     "output_type": "stream",
     "text": [
      "bmi:  [21.85171572722109, 20.97505668934241, 21.750282138093777, 24.74734749867025, 21.44127836209856]\n"
     ]
    }
   ],
   "source": [
    "height = [1.73, 1.68, 1.71, 1.89, 1.79]\n",
    "\n",
    "weight = [65.4, 59.2, 63.6, 88.4, 68.7]\n",
    "\n",
    "# You want to calculate BMI = weight / height ** 2\n",
    "#bmi = weight / height ** 2\n",
    "\n",
    "bmi = []\n",
    "\n",
    "for i in range(len(weight)):\n",
    "    bmi.append(weight[i] / height[i] ** 2)\n",
    "\n",
    "print('bmi: ', bmi)\n",
    "    "
   ]
  },
  {
   "cell_type": "code",
   "execution_count": 2,
   "metadata": {},
   "outputs": [],
   "source": [
    "import numpy as np"
   ]
  },
  {
   "cell_type": "markdown",
   "metadata": {},
   "source": [
    "### with NumPy Arrays\n",
    "[taken from datacamp exercises]"
   ]
  },
  {
   "cell_type": "code",
   "execution_count": 3,
   "metadata": {},
   "outputs": [
    {
     "name": "stdout",
     "output_type": "stream",
     "text": [
      "np_height:  [1.73 1.68 1.71 1.89 1.79]\n",
      "np_weight:  [65.4 59.2 63.6 88.4 68.7]\n",
      "np_bmi:  [21.85171573 20.97505669 21.75028214 24.7473475  21.44127836]\n"
     ]
    },
    {
     "data": {
      "text/plain": [
       "array([2.9929, 2.8224, 2.9241, 3.5721, 3.2041])"
      ]
     },
     "execution_count": 3,
     "metadata": {},
     "output_type": "execute_result"
    }
   ],
   "source": [
    "\n",
    "\n",
    "np_height = np.array(height)\n",
    "\n",
    "print('np_height: ', np_height)\n",
    "\n",
    "np_weight = np.array(weight)\n",
    "\n",
    "print('np_weight: ', np_weight)\n",
    "\n",
    "np_bmi = np_weight / np_height ** 2\n",
    "\n",
    "print('np_bmi: ', np_bmi)\n",
    "\n",
    "np_height ** 2"
   ]
  },
  {
   "cell_type": "markdown",
   "metadata": {},
   "source": [
    "## Fixed-Type Arrays in Python\n",
    "\n",
    "Python offers several different options for storing data in efficient, fixed-type data buffers.\n",
    "The built-in ``array`` module (available since Python 3.3) can be used to create dense arrays of a uniform type:"
   ]
  },
  {
   "cell_type": "code",
   "execution_count": 4,
   "metadata": {},
   "outputs": [
    {
     "name": "stdout",
     "output_type": "stream",
     "text": [
      "Python List L: [0, 1, 2, 3, 4, 5, 6, 7, 8, 9]\n",
      "A: array('i', [0, 1, 2, 3, 4, 5, 6, 7, 8, 9])\n",
      "Fixed Array A: array('i', [0, 1, 2, 3, 4, 5, 6, 7, 8, 9])\n"
     ]
    }
   ],
   "source": [
    "import array\n",
    "\n",
    "L = list(range(10))\n",
    "print('Python List L:', L)\n",
    "\n",
    "A = array.array('i', L)\n",
    "\n",
    "print('A:', A)\n",
    "del(L)\n",
    "\n",
    "print('Fixed Array A:', A)\n",
    "#A[0] = 'raghava'\n",
    "\n",
    "\n"
   ]
  },
  {
   "cell_type": "markdown",
   "metadata": {},
   "source": [
    "### NumPy Arrays Creation"
   ]
  },
  {
   "cell_type": "code",
   "execution_count": 8,
   "metadata": {},
   "outputs": [
    {
     "name": "stdout",
     "output_type": "stream",
     "text": [
      "float32\n",
      "<class 'numpy.float32'>\n",
      "[1. 4. 2. 5. 3.]\n"
     ]
    }
   ],
   "source": [
    "# integer array:\n",
    "npar =np.array([1, 4, 2, 5, 3] , dtype='float32')\n",
    "print(npar.dtype)\n",
    "print(type(npar[0]))\n",
    "print(npar)"
   ]
  },
  {
   "cell_type": "code",
   "execution_count": 9,
   "metadata": {},
   "outputs": [
    {
     "data": {
      "text/plain": [
       "array([1., 2., 3., 4.], dtype=float32)"
      ]
     },
     "execution_count": 9,
     "metadata": {},
     "output_type": "execute_result"
    }
   ],
   "source": [
    "# You can specify the type explicitly.\n",
    "np.array([1, 2, 3, 4], dtype='float32')"
   ]
  },
  {
   "cell_type": "code",
   "execution_count": 10,
   "metadata": {},
   "outputs": [
    {
     "name": "stdout",
     "output_type": "stream",
     "text": [
      "[[3.14 3.14 3.14 3.14 3.14]\n",
      " [3.14 3.14 3.14 3.14 3.14]\n",
      " [3.14 3.14 3.14 3.14 3.14]]\n"
     ]
    }
   ],
   "source": [
    "# Create a 3x5 array filled with 3.14\n",
    "ar = np.full((3, 5), 3.14)\n",
    "\n",
    "print(ar)"
   ]
  },
  {
   "cell_type": "code",
   "execution_count": 13,
   "metadata": {},
   "outputs": [
    {
     "data": {
      "text/plain": [
       "array([0.  , 0.25, 0.5 , 0.75, 1.  ])"
      ]
     },
     "execution_count": 13,
     "metadata": {},
     "output_type": "execute_result"
    }
   ],
   "source": [
    "# Create an array of five values evenly spaced between 0 and 1\n",
    "np.linspace(0, 1, 5)"
   ]
  },
  {
   "cell_type": "code",
   "execution_count": 14,
   "metadata": {},
   "outputs": [
    {
     "data": {
      "text/plain": [
       "array([[0.38816691, 0.67748643, 0.91232966, 0.87367696, 0.0416137 ,\n",
       "        0.28228872, 0.40088386, 0.04651695, 0.83048968, 0.83596623],\n",
       "       [0.13496299, 0.74361239, 0.46183999, 0.42857522, 0.24810379,\n",
       "        0.39752209, 0.60242277, 0.40520688, 0.13446999, 0.13097567],\n",
       "       [0.17945845, 0.84395246, 0.48046957, 0.63137191, 0.78621774,\n",
       "        0.86799571, 0.25376602, 0.40443385, 0.59662433, 0.04712645],\n",
       "       [0.7087056 , 0.55858991, 0.0548699 , 0.18169064, 0.43102367,\n",
       "        0.68570693, 0.14323918, 0.28395044, 0.5250495 , 0.73560339],\n",
       "       [0.82578188, 0.9845125 , 0.7245485 , 0.94938107, 0.18165733,\n",
       "        0.18412556, 0.20429389, 0.82071374, 0.38057161, 0.39757136]])"
      ]
     },
     "execution_count": 14,
     "metadata": {},
     "output_type": "execute_result"
    }
   ],
   "source": [
    "# Create a 3x3 array of uniformly distributed\n",
    "# random values between 0 and 1\n",
    "np.random.random((5, 10))\n"
   ]
  },
  {
   "cell_type": "markdown",
   "metadata": {},
   "source": [
    "### Create random values normally distributed"
   ]
  },
  {
   "cell_type": "code",
   "execution_count": 17,
   "metadata": {},
   "outputs": [
    {
     "name": "stdout",
     "output_type": "stream",
     "text": [
      "[46.98586708 50.50531182 48.54956719 52.81174252 52.15912529]\n",
      "[[[104.33225852  87.33642747  93.57980416  80.96730679  93.07587804]\n",
      "  [ 65.27712768  77.22941385  94.92511766 113.02298673  86.72711804]\n",
      "  [ 68.98449194  94.69797844  98.19748273 104.92301604 114.39230949]]\n",
      "\n",
      " [[ 79.15391623  93.21592994  69.89853856  87.09004245  95.68209727]\n",
      "  [ 95.75993853 115.51000498 113.08776946 133.77312458  67.10017663]\n",
      "  [ 90.24992304  97.80166542  84.31943129  89.89047101  92.41628589]]]\n"
     ]
    }
   ],
   "source": [
    "# Create a 3x3 array of normally distributed random values\n",
    "# with mean 0 and standard deviation 1\n",
    "\n",
    "onedim = np.random.normal(50, 3, 5)\n",
    "\n",
    "print(onedim)\n",
    "\n",
    "threedim = np.random.normal(99, 15, (2, 3, 5))\n",
    "\n",
    "print(threedim)\n",
    "\n",
    "#threedim[0:2,1,1]\n"
   ]
  },
  {
   "cell_type": "markdown",
   "metadata": {},
   "source": [
    "### Array Creation Examples"
   ]
  },
  {
   "cell_type": "code",
   "execution_count": 7,
   "metadata": {
    "scrolled": true
   },
   "outputs": [
    {
     "name": "stdout",
     "output_type": "stream",
     "text": [
      "x1 [9 5 8 8 8 6]\n",
      "x2 [[3 5 2 4]\n",
      " [7 6 8 8]\n",
      " [1 6 7 7]]\n",
      "x3 [[[8 1 5 9 8]\n",
      "  [9 4 3 0 3]\n",
      "  [5 0 2 3 8]\n",
      "  [1 3 3 3 7]]\n",
      "\n",
      " [[0 1 9 9 0]\n",
      "  [4 7 3 2 7]\n",
      "  [2 0 0 4 5]\n",
      "  [5 6 8 4 1]]\n",
      "\n",
      " [[4 9 8 1 1]\n",
      "  [7 9 9 3 6]\n",
      "  [7 2 0 3 5]\n",
      "  [9 4 4 6 4]]]\n"
     ]
    }
   ],
   "source": [
    "import numpy as np\n",
    "np.random.seed(0)  # seed for reproducibility\n",
    "\n",
    "# syntax:\n",
    "# numpy.random.randint(low, high=None, size=None, dtype='l')\n",
    "\n",
    "x1 = np.random.randint(5,10, size=6)  # One-dimensional array\n",
    "\n",
    "x2 = np.random.randint(10, size=(3, 4))  # Two-dimensional array\n",
    "\n",
    "x3 = np.random.randint(10, size=(3, 4, 5))  # Three-dimensional array\n",
    "x3\n",
    "\n",
    "print('x1', x1)\n",
    "\n",
    "print('x2', x2)\n",
    "\n",
    "print('x3', x3)"
   ]
  },
  {
   "cell_type": "code",
   "execution_count": 23,
   "metadata": {},
   "outputs": [
    {
     "name": "stdout",
     "output_type": "stream",
     "text": [
      "x4: [[[38 39 99 21 78]\n",
      "  [55  8 31 25  3]\n",
      "  [65 94 82 66 12]\n",
      "  [97 71  8 67 74]]\n",
      "\n",
      " [[52 78 36 28 82]\n",
      "  [85 63 86 95 41]\n",
      "  [16  2  4 21 60]\n",
      "  [91 18 12 27 93]]\n",
      "\n",
      " [[11  5 19 48 67]\n",
      "  [32 31 67 81 13]\n",
      "  [ 5 90 19  2 92]\n",
      "  [66 20 90 20 35]]]\n",
      "x5: [[[92 90 92 94 98]\n",
      "  [92 90 94 92 93]\n",
      "  [93 99 92 94 92]\n",
      "  [99 98 98 96 94]]\n",
      "\n",
      " [[90 95 91 93 91]\n",
      "  [98 99 99 98 92]\n",
      "  [91 91 92 99 92]\n",
      "  [92 97 92 98 92]]\n",
      "\n",
      " [[98 91 95 97 98]\n",
      "  [90 94 99 94 99]\n",
      "  [97 93 96 98 97]\n",
      "  [91 92 92 97 99]]]\n",
      "x6: [[[-54 -51   7 -73 -20]\n",
      "  [-37 -82 -63 -67 -90]\n",
      "  [-28  -5 -10 -28 -80]\n",
      "  [ -2 -27 -90 -29 -20]]\n",
      "\n",
      " [[-38 -17 -55 -65  -9]\n",
      "  [-13 -36 -13  -3 -51]\n",
      "  [-75 -89 -88 -78 -32]\n",
      "  [ -1 -79 -80 -71   1]]\n",
      "\n",
      " [[-87 -86 -76 -49 -31]\n",
      "  [-58 -63 -32 -13 -86]\n",
      "  [-92  -3 -77 -96  -5]\n",
      "  [-25 -72  -2 -77 -64]]]\n",
      "x7: [[[  79235168   90224199 9509900499    4084101 2887174368]\n",
      "  [ 503284375      32768   28629151    9765625        243]\n",
      "  [1160290625 7339040224 3707398432 1252332576     248832]\n",
      "  [8587340257 1804229351      32768 1350125107 2219006624]]\n",
      "\n",
      " [[ 380204032 2887174368   60466176   17210368 3707398432]\n",
      "  [4437053125  992436543 4704270176 7737809375  115856201]\n",
      "  [   1048576         32       1024    4084101  777600000]\n",
      "  [6240321451    1889568     248832   14348907 6956883693]]\n",
      "\n",
      " [[    161051       3125    2476099  254803968 1350125107]\n",
      "  [  33554432   28629151 1350125107 3486784401     371293]\n",
      "  [      3125 5904900000    2476099         32 6590815232]\n",
      "  [1252332576    3200000 5904900000    3200000   52521875]]]\n"
     ]
    }
   ],
   "source": [
    "x4 = np.random.randint(100, size=(3, 4, 5))  # Three-dimensional array\n",
    "\n",
    "x5 = np.random.randint(90, 100, size=(3, 4, 5))  # Three-dimensional array\n",
    "\n",
    "print('x4:', x4)\n",
    "\n",
    "print('x5:', x5)\n",
    "\n",
    "x6 = x4 - x5\n",
    "\n",
    "print('x6:', x6)\n",
    "\n",
    "x7 = x4 ** 5\n",
    "\n",
    "print('x7:', x7)"
   ]
  },
  {
   "cell_type": "markdown",
   "metadata": {},
   "source": [
    "### Array Shape, Dimension and Size"
   ]
  },
  {
   "cell_type": "code",
   "execution_count": 9,
   "metadata": {},
   "outputs": [
    {
     "name": "stdout",
     "output_type": "stream",
     "text": [
      "x3 ndim:  3\n",
      "x1 shape: (6,)\n",
      "x2 shape: (3, 4)\n",
      "x3 shape: (3, 4, 5)\n",
      "x3 size:  60\n"
     ]
    }
   ],
   "source": [
    "print(\"x3 ndim: \", x3.ndim)\n",
    "\n",
    "print(\"x1 shape:\", x1.shape)\n",
    "\n",
    "print(\"x2 shape:\", x2.shape)\n",
    "\n",
    "print(\"x3 shape:\", x3.shape)\n",
    "\n",
    "print(\"x3 size: \", x3.size)"
   ]
  },
  {
   "cell_type": "markdown",
   "metadata": {},
   "source": [
    "## Reshape functionality"
   ]
  },
  {
   "cell_type": "code",
   "execution_count": 29,
   "metadata": {},
   "outputs": [
    {
     "name": "stdout",
     "output_type": "stream",
     "text": [
      "o_array: [ 0  1  2  3  4  5  6  7  8  9 10 11 12 13 14 15 16 17 18 19 20 21 22 23\n",
      " 24 25 26 27 28 29 30 31 32 33 34 35 36 37 38 39 40 41 42 43 44 45 46 47\n",
      " 48 49 50 51 52 53 54 55 56 57 58 59 60 61 62 63 64 65 66 67 68 69 70 71\n",
      " 72 73 74 75 76 77 78 79 80 81 82 83 84 85 86 87 88 89]\n",
      "re_array [[[ 0  1]\n",
      "  [ 2  3]\n",
      "  [ 4  5]\n",
      "  [ 6  7]\n",
      "  [ 8  9]]\n",
      "\n",
      " [[10 11]\n",
      "  [12 13]\n",
      "  [14 15]\n",
      "  [16 17]\n",
      "  [18 19]]\n",
      "\n",
      " [[20 21]\n",
      "  [22 23]\n",
      "  [24 25]\n",
      "  [26 27]\n",
      "  [28 29]]\n",
      "\n",
      " [[30 31]\n",
      "  [32 33]\n",
      "  [34 35]\n",
      "  [36 37]\n",
      "  [38 39]]\n",
      "\n",
      " [[40 41]\n",
      "  [42 43]\n",
      "  [44 45]\n",
      "  [46 47]\n",
      "  [48 49]]\n",
      "\n",
      " [[50 51]\n",
      "  [52 53]\n",
      "  [54 55]\n",
      "  [56 57]\n",
      "  [58 59]]\n",
      "\n",
      " [[60 61]\n",
      "  [62 63]\n",
      "  [64 65]\n",
      "  [66 67]\n",
      "  [68 69]]\n",
      "\n",
      " [[70 71]\n",
      "  [72 73]\n",
      "  [74 75]\n",
      "  [76 77]\n",
      "  [78 79]]\n",
      "\n",
      " [[80 81]\n",
      "  [82 83]\n",
      "  [84 85]\n",
      "  [86 87]\n",
      "  [88 89]]]\n"
     ]
    }
   ],
   "source": [
    "o_array = np.arange(90)\n",
    "\n",
    "print('o_array:',o_array)\n",
    "\n",
    "re_array = o_array.reshape((9,5, 2))\n",
    "\n",
    "print('re_array', re_array)"
   ]
  },
  {
   "cell_type": "markdown",
   "metadata": {},
   "source": [
    "### Array axes and reduction such as sum etc.\n",
    "https://docs.scipy.org/doc/numpy/reference/generated/numpy.sum.html\n"
   ]
  },
  {
   "cell_type": "code",
   "execution_count": 10,
   "metadata": {},
   "outputs": [
    {
     "name": "stdout",
     "output_type": "stream",
     "text": [
      "two_dim_array: \n",
      " [[ 1  2  3  4]\n",
      " [ 5  6  7  8]\n",
      " [ 9 10 11 12]]\n",
      "sum_none along axix= None:  78\n"
     ]
    }
   ],
   "source": [
    "\n",
    "# Create a array of integers\n",
    "one_dim_array = np.arange(1,13)\n",
    "# reshape the one dim array to two array..\n",
    "two_dim_array =np.reshape(one_dim_array, (3,4))\n",
    "\n",
    "print('two_dim_array: \\n',two_dim_array)\n",
    "\n",
    "\n",
    "#\n",
    "sum_none =np.sum(two_dim_array, axis=None)\n",
    "\n",
    "print('sum_none along axix= None: ', sum_none)\n",
    "\n",
    "\n"
   ]
  },
  {
   "cell_type": "code",
   "execution_count": 11,
   "metadata": {},
   "outputs": [
    {
     "name": "stdout",
     "output_type": "stream",
     "text": [
      "sum_zero along axix= 0:  [15 18 21 24]\n",
      "two_dim_array: \n",
      " [[ 1  2  3  4]\n",
      " [ 5  6  7  8]\n",
      " [ 9 10 11 12]]\n",
      "sum_one along axis = 1:  [10 26 42]\n"
     ]
    }
   ],
   "source": [
    "sum_zero =np.sum(two_dim_array, axis=0)\n",
    "\n",
    "print('sum_zero along axix= 0: ', sum_zero)\n",
    "\n",
    "print('two_dim_array: \\n',two_dim_array)\n",
    "\n",
    "sum_axis_one =np.sum(two_dim_array, axis=1)\n",
    "\n",
    "print('sum_one along axis = 1: ', sum_axis_one)\n"
   ]
  },
  {
   "cell_type": "code",
   "execution_count": 12,
   "metadata": {},
   "outputs": [
    {
     "name": "stdout",
     "output_type": "stream",
     "text": [
      "prod_axis_zero along axis = 0:  [ 45 120 231 384]\n",
      "two_dim_array: \n",
      " [[ 1  2  3  4]\n",
      " [ 5  6  7  8]\n",
      " [ 9 10 11 12]]\n",
      "prod_axis_one along axis = 1:  [   24  1680 11880]\n"
     ]
    }
   ],
   "source": [
    "prod_axis_zero =np.prod(two_dim_array, axis=0)\n",
    "\n",
    "print('prod_axis_zero along axis = 0: ', prod_axis_zero)\n",
    "\n",
    "print('two_dim_array: \\n',two_dim_array)\n",
    "\n",
    "prod_axis_one =np.prod(two_dim_array, axis=1)\n",
    "\n",
    "print('prod_axis_one along axis = 1: ', prod_axis_one)\n"
   ]
  },
  {
   "cell_type": "code",
   "execution_count": 13,
   "metadata": {},
   "outputs": [
    {
     "name": "stdout",
     "output_type": "stream",
     "text": [
      "one_dim_array: [ 1  2  3  4  5  6  7  8  9 10 11 12]\n",
      "two_dim_array: \n",
      " [[ 1  2  3  4]\n",
      " [ 5  6  7  8]\n",
      " [ 9 10 11 12]]\n"
     ]
    }
   ],
   "source": [
    "# Create a array of integers\n",
    "one_dim_array = np.arange(1,13)\n",
    "\n",
    "print('one_dim_array:', one_dim_array)\n",
    "\n",
    "# reshape the one dim array to two array..\n",
    "two_dim_array =np.reshape(one_dim_array, (3,4))\n",
    "\n",
    "print('two_dim_array: \\n',two_dim_array)\n"
   ]
  },
  {
   "cell_type": "code",
   "execution_count": null,
   "metadata": {},
   "outputs": [],
   "source": []
  }
 ],
 "metadata": {
  "kernelspec": {
   "display_name": "Python 3 (ipykernel)",
   "language": "python",
   "name": "python3"
  },
  "language_info": {
   "codemirror_mode": {
    "name": "ipython",
    "version": 3
   },
   "file_extension": ".py",
   "mimetype": "text/x-python",
   "name": "python",
   "nbconvert_exporter": "python",
   "pygments_lexer": "ipython3",
   "version": "3.9.7"
  }
 },
 "nbformat": 4,
 "nbformat_minor": 2
}
