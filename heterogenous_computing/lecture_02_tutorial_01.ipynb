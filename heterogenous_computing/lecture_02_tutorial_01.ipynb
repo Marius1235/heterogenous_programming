{
 "cells": [
  {
   "cell_type": "markdown",
   "id": "48a3903c",
   "metadata": {},
   "source": [
    "<center> <h1> Heterogeneous Computing for AI </h1> </center>\n",
    "\n",
    "<center> <h2> Lecture 02 -: Tutorial 01 </h2> </center>\n",
    "\n",
    "<center> <h4> Raghava Mukkamala (rrm.digi@cbs.dk)</h4> </center>\n",
    "\n",
    "Instructions\n",
    "\n",
    "Please use Python 3 for working on the following questions.\n"
   ]
  },
  {
   "cell_type": "markdown",
   "id": "9eaa51fb",
   "metadata": {},
   "source": [
    "## Example 01: Download URLs "
   ]
  },
  {
   "cell_type": "markdown",
   "id": "cdce3cbf",
   "metadata": {},
   "source": [
    "### The following python script downloads data from a set of webpages.\n",
    "This is a classic example of downloading webpages and the standard for introducing concurrency.\n"
   ]
  },
  {
   "cell_type": "code",
   "execution_count": 11,
   "id": "f5fa7fb2",
   "metadata": {},
   "outputs": [],
   "source": [
    "import requests\n",
    "import time"
   ]
  },
  {
   "cell_type": "markdown",
   "id": "023e21fe",
   "metadata": {},
   "source": [
    "Utility functions to download the webpages"
   ]
  },
  {
   "cell_type": "code",
   "execution_count": 12,
   "id": "1130143b",
   "metadata": {},
   "outputs": [],
   "source": [
    "def download_site(url):\n",
    "    \n",
    "    with requests.get(url) as response:\n",
    "        \n",
    "        return len(response.content)\n"
   ]
  },
  {
   "cell_type": "code",
   "execution_count": 17,
   "id": "b66a8546",
   "metadata": {},
   "outputs": [],
   "source": [
    "def download_all_sites(urls):\n",
    "    \"\"\"\n",
    "        This function takes a list of URLs and call the \n",
    "        download_site()  function for each URL in the list.\n",
    "    \"\"\"\n",
    "    for url in urls:\n",
    "  \n",
    "        print(\"For URL: \", url, download_site(url))\n"
   ]
  },
  {
   "cell_type": "code",
   "execution_count": 18,
   "id": "934fd6f9",
   "metadata": {},
   "outputs": [
    {
     "name": "stdout",
     "output_type": "stream",
     "text": [
      "For URL:  https://twitter.com 125821\n",
      "For URL:  https://facebook.com 69964\n",
      "For URL:  https://www.linkedin.com 120506\n",
      "For URL:  https://twitter.com 125176\n",
      "For URL:  https://facebook.com 69962\n",
      "For URL:  https://www.linkedin.com 120506\n",
      "For URL:  https://twitter.com 125431\n",
      "For URL:  https://facebook.com 69963\n",
      "For URL:  https://www.linkedin.com 120506\n",
      "For URL:  https://twitter.com 125200\n",
      "For URL:  https://facebook.com 69966\n",
      "For URL:  https://www.linkedin.com 120506\n",
      "For URL:  https://twitter.com 125486\n",
      "For URL:  https://facebook.com 69964\n",
      "For URL:  https://www.linkedin.com 120506\n",
      "For URL:  https://twitter.com 125456\n",
      "For URL:  https://facebook.com 69966\n",
      "For URL:  https://www.linkedin.com 120506\n",
      "For URL:  https://twitter.com 125185\n",
      "For URL:  https://facebook.com 69963\n",
      "For URL:  https://www.linkedin.com 120506\n",
      "For URL:  https://twitter.com 125187\n",
      "For URL:  https://facebook.com 69960\n",
      "For URL:  https://www.linkedin.com 120506\n",
      "For URL:  https://twitter.com 125176\n",
      "For URL:  https://facebook.com 69964\n",
      "For URL:  https://www.linkedin.com 120506\n",
      "For URL:  https://twitter.com 125220\n",
      "For URL:  https://facebook.com 69963\n",
      "For URL:  https://www.linkedin.com 120506\n",
      "Time taken:  15.038458108901978 Seconds\n"
     ]
    }
   ],
   "source": [
    "if __name__ == \"__main__\":\n",
    "    \n",
    "    start_time = time.time()\n",
    "\n",
    "    links = [\"https://twitter.com\",\"https://facebook.com\", \"https://www.linkedin.com\"] * 10\n",
    "    download_all_sites(links)\n",
    "    \n",
    "    end_time = time.time()\n",
    "    \n",
    "    print(\"Time taken: \", end_time - start_time, \"Seconds\")\n"
   ]
  },
  {
   "cell_type": "markdown",
   "id": "bbc4d93f",
   "metadata": {},
   "source": [
    "## Example 02:  Simple Threading "
   ]
  },
  {
   "cell_type": "markdown",
   "id": "67c0e6a2",
   "metadata": {},
   "source": [
    "A simple example showing how to create threads and assign functions to them"
   ]
  },
  {
   "cell_type": "code",
   "execution_count": 3,
   "id": "ab26ecab",
   "metadata": {},
   "outputs": [],
   "source": [
    "import threading\n",
    "import time"
   ]
  },
  {
   "cell_type": "code",
   "execution_count": 5,
   "id": "52677db1",
   "metadata": {},
   "outputs": [],
   "source": [
    "def wait2_seconds():\n",
    "    print(f\"In function wait2_seconds, run by thread: {threading.current_thread().name}\")\n",
    "\n",
    "    time.sleep(2)\n",
    "    \n",
    "    print(f\"Finished waiting 2 seconds\")"
   ]
  },
  {
   "cell_type": "code",
   "execution_count": 6,
   "id": "e7cc5dfb",
   "metadata": {},
   "outputs": [],
   "source": [
    "def wait5_seconds():\n",
    "    \n",
    "    print(f\"In function wait5_seconds, run by thread: {threading.current_thread().name}\")\n",
    "    \n",
    "    time.sleep(5)\n",
    "    \n",
    "    print(\"Finished waiting 5 seconds\")"
   ]
  },
  {
   "cell_type": "code",
   "execution_count": 11,
   "id": "52d1cd79",
   "metadata": {},
   "outputs": [
    {
     "name": "stdout",
     "output_type": "stream",
     "text": [
      "In main thread: ,run by thread: MainThread\n",
      "In function wait2_seconds, run by thread: t1In function wait5_seconds, run by thread: t2\n",
      "\n",
      "Finished waiting 2 seconds\n",
      "Finished waiting 5 seconds\n",
      "main thread is finished execution\n"
     ]
    }
   ],
   "source": [
    "if __name__ == \"__main__\":\n",
    "\n",
    "    print(f\"In main thread: ,run by thread: {threading.current_thread().name}\")\n",
    "\n",
    "    # creating threads\n",
    "    t1 = threading.Thread(target=wait2_seconds, name='t1')\n",
    "    \n",
    "    t2 = threading.Thread(target=wait5_seconds, name='t2') \n",
    "\n",
    "    # start the threads\n",
    "    t1.start()\n",
    "    \n",
    "    t2.start()\n",
    "\n",
    "    # wait for threads to complete execution\n",
    "    # This is done so that the \"main thread\" that is running all this code doesnt\n",
    "    # terminate before the other threads finish their execution\n",
    "    t1.join()\n",
    "    \n",
    "    t2.join()\n",
    "\n",
    "    print(\"main thread is finished execution\")\n",
    "\n"
   ]
  },
  {
   "cell_type": "markdown",
   "id": "d76d0eab",
   "metadata": {},
   "source": [
    "## Example 03:  Threading Example "
   ]
  },
  {
   "cell_type": "markdown",
   "id": "791a28a4",
   "metadata": {},
   "source": [
    "Creating threads dynamically and timing them  "
   ]
  },
  {
   "cell_type": "code",
   "execution_count": 1,
   "id": "9117770d",
   "metadata": {},
   "outputs": [],
   "source": [
    "from time import sleep, perf_counter\n",
    "\n",
    "from threading import Thread\n"
   ]
  },
  {
   "cell_type": "code",
   "execution_count": 2,
   "id": "b97655d3",
   "metadata": {},
   "outputs": [],
   "source": [
    "def task(id):\n",
    "    print(f'Starting the task {id}...')\n",
    "    \n",
    "    sleep(1)\n",
    "    \n",
    "    print(f'The task {id} completed \\n')\n"
   ]
  },
  {
   "cell_type": "markdown",
   "id": "f449099d",
   "metadata": {},
   "source": [
    "Now we start the timer and create 10 threads to run the same function concurrently!\n",
    "\n",
    "#### Especially run the following code and observe in what sequence threads started their execution and which sequence finished their execution. "
   ]
  },
  {
   "cell_type": "code",
   "execution_count": 3,
   "id": "050ae4f0",
   "metadata": {},
   "outputs": [
    {
     "name": "stdout",
     "output_type": "stream",
     "text": [
      "Starting the task 1...\n",
      "Starting the task 2...\n",
      "Starting the task 3...\n",
      "Starting the task 4...\n",
      "Starting the task 5...\n",
      "Starting the task 6...\n",
      "Starting the task 7...Starting the task 8...\n",
      "\n",
      "Starting the task 9...\n",
      "Starting the task 10...\n",
      "The task 2 completed \n",
      "\n",
      "The task 3 completed \n",
      "The task 1 completed \n",
      "\n",
      "The task 4 completed \n",
      "\n",
      "\n",
      "The task 6 completed \n",
      "\n",
      "The task 8 completed \n",
      "\n",
      "The task 5 completed \n",
      "The task 7 completed \n",
      "The task 9 completed \n",
      "\n",
      "\n",
      "\n",
      "The task 10 completed \n",
      "\n",
      "It took  1.01 second(s) to complete.\n"
     ]
    }
   ],
   "source": [
    "start_time = perf_counter()\n",
    "\n",
    "# create and start 10 threads\n",
    "threads = []\n",
    "\n",
    "for n in range(1, 11):\n",
    "\n",
    "    t = Thread(target=task, args=(n,))\n",
    "    \n",
    "    t.daemon = True\n",
    "    \n",
    "    threads.append(t)\n",
    "    \n",
    "    t.start()\n",
    "\n",
    "# wait for the threads to complete\n",
    "for t in threads:\n",
    "    \n",
    "    t.join()\n",
    "\n",
    "end_time = perf_counter()\n",
    "\n",
    "print(f'It took {end_time- start_time: 0.2f} second(s) to complete.')"
   ]
  },
  {
   "cell_type": "markdown",
   "id": "e4b93aed",
   "metadata": {},
   "source": [
    "## Example 04:  A simple non-trivial parallel program\n",
    "Source : Inspired from the examples in https://www.machinelearningplus.com/python/parallel-processing-python/"
   ]
  },
  {
   "cell_type": "code",
   "execution_count": 1,
   "id": "77661935",
   "metadata": {},
   "outputs": [],
   "source": [
    "import time\n",
    "from typing import List\n",
    "import numpy as np \n"
   ]
  },
  {
   "cell_type": "code",
   "execution_count": 2,
   "id": "f97b2137",
   "metadata": {},
   "outputs": [],
   "source": [
    "def range_counter(row: List[int], min: int = 5, \n",
    "                  max: int = 10) -> int:\n",
    "    '''\n",
    "    Returns the number of values in the row that fall between the given range\n",
    "        Args:\n",
    "            i.   row : Lst of numbers\n",
    "            ii.  min : minimum value of range\n",
    "            iii. max : maximum values of range\n",
    "\n",
    "        Returns: a count (int) of values that fall in the range\n",
    "    '''\n",
    "    count = 0\n",
    "    \n",
    "    for val in row:\n",
    "        \n",
    "        if min <= val <= max:\n",
    "            count += 1\n",
    "    \n",
    "    return count\n"
   ]
  },
  {
   "cell_type": "code",
   "execution_count": 3,
   "id": "8e8a9825",
   "metadata": {},
   "outputs": [],
   "source": [
    "def apply_range_counter_sequential(data: List[List[int]],\n",
    "                                   min: int,\n",
    "                                   max: int) -> List[int]:\n",
    "    '''\n",
    "    This function takes data and applies the range_counter function\n",
    "    over all the rows in the data\n",
    "    '''\n",
    "    result = []\n",
    "    \n",
    "    for row in data:\n",
    "\n",
    "        temp_result = range_counter(row, min, max)\n",
    "\n",
    "        result.append(temp_result)\n",
    "\n",
    "    return result\n"
   ]
  },
  {
   "cell_type": "code",
   "execution_count": 4,
   "id": "5467d469",
   "metadata": {},
   "outputs": [
    {
     "name": "stdout",
     "output_type": "stream",
     "text": [
      "[[5, 0, 3, 3, 7, 9, 3, 5, 2, 4], [7, 6, 8, 8, 1, 6, 7, 7, 8, 1], [5, 9, 8, 9, 4, 3, 0, 3, 5, 0], [2, 3, 8, 1, 3, 3, 3, 7, 0, 1], [9, 9, 0, 4, 7, 3, 2, 7, 2, 0], [0, 4, 5, 5, 6, 8, 4, 1, 4, 9], [8, 1, 1, 7, 9, 9, 3, 6, 7, 2], [0, 3, 5, 9, 4, 4, 6, 4, 4, 3], [4, 4, 8, 4, 3, 7, 5, 5, 0, 1], [5, 9, 3, 0, 5, 0, 1, 2, 4, 2]]\n",
      "Finished Sequential computation in 0.00012 seconds\n",
      "First 10 results of the sequential result [4, 8, 5, 2, 4, 5, 6, 3, 4, 3]\n",
      "done!\n"
     ]
    }
   ],
   "source": [
    "if __name__ == '__main__':\n",
    "\n",
    "    # Providing a seed ensures we can get the same 'random' values\n",
    "    #  generated each time (Good for testing)\n",
    "    np.random.seed(0)\n",
    "\n",
    "    # create a matrix with dimensions 200x5 (200 rows and 5 columns)\n",
    "    arr = np.random.randint(0, 10, size=[200, 10])\n",
    "\n",
    "    # Convert into lists of lists\n",
    "    data = arr.tolist()\n",
    "    \n",
    "    print(data[0:10])\n",
    "\n",
    "    # timing the sequential solution\n",
    "    start_sequential = time.perf_counter()\n",
    "\n",
    "    seq_result = apply_range_counter_sequential(data, 5, 10)\n",
    "    \n",
    "    end_sequential = time.perf_counter()\n",
    "\n",
    "    print(f'Finished Sequential computation in {round(end_sequential-start_sequential, 5)} seconds')\n",
    "\n",
    "    print('First 10 results of the sequential result', seq_result[:10])\n",
    "\n",
    "print('done!')\n"
   ]
  },
  {
   "cell_type": "code",
   "execution_count": null,
   "id": "248da883",
   "metadata": {},
   "outputs": [],
   "source": []
  },
  {
   "cell_type": "markdown",
   "id": "805f6056",
   "metadata": {},
   "source": [
    "### To find number of processes/CPUs on your computer"
   ]
  },
  {
   "cell_type": "code",
   "execution_count": 1,
   "id": "ccd04754",
   "metadata": {},
   "outputs": [
    {
     "name": "stdout",
     "output_type": "stream",
     "text": [
      "Number of processors:  16\n"
     ]
    }
   ],
   "source": [
    "import multiprocessing as mp\n",
    "\n",
    "print(\"Number of processors: \", mp.cpu_count())"
   ]
  },
  {
   "cell_type": "code",
   "execution_count": null,
   "id": "127753e1",
   "metadata": {},
   "outputs": [],
   "source": []
  }
 ],
 "metadata": {
  "kernelspec": {
   "display_name": "Python 3 (ipykernel)",
   "language": "python",
   "name": "python3"
  },
  "language_info": {
   "codemirror_mode": {
    "name": "ipython",
    "version": 3
   },
   "file_extension": ".py",
   "mimetype": "text/x-python",
   "name": "python",
   "nbconvert_exporter": "python",
   "pygments_lexer": "ipython3",
   "version": "3.9.7"
  }
 },
 "nbformat": 4,
 "nbformat_minor": 5
}
