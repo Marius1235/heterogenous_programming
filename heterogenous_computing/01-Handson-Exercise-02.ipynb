{
 "cells": [
  {
   "cell_type": "markdown",
   "metadata": {},
   "source": [
    "<center> <h1> Heterogeneous Computing for AI </h1> </center>\n",
    "\n",
    "<center> <h2> Lecture 01 -: Handson Exercises - Part 02 </h2> </center>\n",
    "\n",
    "<center> <h4> Raghava Mukkamala (rrm.digi@cbs.dk) </h4> </center>\n",
    "\n",
    "Instructions\n",
    "\n",
    "Please use <b>Python 3</b> for working on the following questions.\n"
   ]
  },
  {
   "cell_type": "markdown",
   "metadata": {},
   "source": []
  },
  {
   "cell_type": "markdown",
   "metadata": {},
   "source": [
    "## [Functions]\n",
    "\n",
    "### Q1:\n",
    "Write a Python function that will take any integer $n$ as a input and compute the sum of all numbers till $n$ that are that are a multiple of either 3 or 5. Write also code for testing your code for a $n$ value of 1000, 10000, 100000 and 1000000. \n",
    "\n",
    "**Hint** You can reuse your code from the solution for exercise 01 on **[Control Flow]** from **Lecture 01 -: Handson Exercises**. Use modulo (%) operator to check if a number is multiple of another number.\n",
    "\n"
   ]
  },
  {
   "cell_type": "code",
   "execution_count": 1,
   "metadata": {},
   "outputs": [],
   "source": [
    "import random"
   ]
  },
  {
   "cell_type": "code",
   "execution_count": 3,
   "metadata": {},
   "outputs": [],
   "source": [
    "# Solution for exercise - Q1 - Function Definition\n",
    "def sum_of_all_numbers(n=0):\n",
    "        \n",
    "        sum = 0\n",
    "        \n",
    "        for i in range(n):\n",
    "            multiplier = random.randint(1,2)\n",
    "            if multiplier == 1:\n",
    "                sum += i * 3\n",
    "            else:\n",
    "                sum += i * 5\n",
    "                \n",
    "        return sum"
   ]
  },
  {
   "cell_type": "code",
   "execution_count": 6,
   "metadata": {},
   "outputs": [
    {
     "name": "stdout",
     "output_type": "stream",
     "text": [
      "2005332\n",
      "199727088\n",
      "20004447092\n",
      "2000067635732\n"
     ]
    }
   ],
   "source": [
    "# Testing code for exercise - Q1 \n",
    "print(sum_of_all_numbers(1000))\n",
    "print(sum_of_all_numbers(10000))\n",
    "print(sum_of_all_numbers(100000))\n",
    "print(sum_of_all_numbers(1000000))"
   ]
  },
  {
   "cell_type": "markdown",
   "metadata": {},
   "source": [
    "## [Variable Scoping]"
   ]
  },
  {
   "cell_type": "markdown",
   "metadata": {},
   "source": [
    "### Q2:\n",
    "\n",
    "The following the sample code is on scoping of variables. Run the code and understand how variable scoping works in different function scopes. You may also consider to use visualization using \n",
    "http://www.pythontutor.com/visualize.html#mode=edit to understand the variable scoping in different contexts.\n",
    "\n"
   ]
  },
  {
   "cell_type": "code",
   "execution_count": 7,
   "metadata": {},
   "outputs": [
    {
     "name": "stdout",
     "output_type": "stream",
     "text": [
      "in f(x): x = 4\n",
      "in main program scope: z = 4\n",
      "in main program scope: x = 3\n",
      "in g(x): x =  4\n",
      "in h(x): x =  5\n",
      "in main program scope: x =  3\n",
      "in main program scope: z =  4\n"
     ]
    }
   ],
   "source": [
    "def f(x):\n",
    "    \n",
    "    x= x + 1\n",
    "    print('in f(x): x =', x) \n",
    "    return x\n",
    "\n",
    "x = 3\n",
    "\n",
    "z = f(x)\n",
    "\n",
    "print('in main program scope: z =', z) \n",
    "\n",
    "\n",
    "print('in main program scope: x =', x)\n",
    "\n",
    "\n",
    "def g(x): \n",
    "    def h(x):\n",
    "        x = x + 1\n",
    "        print(\"in h(x): x = \", x) \n",
    "\n",
    "    x = x + 1\n",
    "    print('in g(x): x = ', x) \n",
    "    h(x)\n",
    "    return x\n",
    "\n",
    "\n",
    "x = 3\n",
    "\n",
    "z = g(x)\n",
    "\n",
    "print('in main program scope: x = ', x) \n",
    "\n",
    "print('in main program scope: z = ', z)"
   ]
  },
  {
   "cell_type": "markdown",
   "metadata": {},
   "source": [
    "## [List Comprehension]\n",
    "\n",
    "### Q3:\n",
    "\n",
    "For any given list of numbers (say **list_01**), write python code using list **comprehension** to separate the list into two sub-lists containing even and odd numbers respectively. Test your code using the following list and print the output. \n",
    "\n",
    "        list_01 = [1,2,3,4,5,6,7,8,9]\n",
    "\n"
   ]
  },
  {
   "cell_type": "code",
   "execution_count": 5,
   "metadata": {},
   "outputs": [],
   "source": [
    "# Your solution for Q3 \n",
    "\n",
    "list_01 = [1,2,3,4,5,6,7,8,9]\n",
    "\n",
    "\n",
    "\n",
    "\n",
    "\n",
    "\n"
   ]
  },
  {
   "cell_type": "markdown",
   "metadata": {},
   "source": [
    "## [List and Functions]\n",
    "\n",
    "### Q4:\n",
    "\n",
    "Write a function that takes a list of numbers and returns a new list containing summation of consecutive numbers in the given list. Test your program on list \n",
    "\n",
    "a = [7,5,6,45,23,1,4,90]\n",
    "\n",
    "\n",
    "**Hint** \n",
    "\n",
    "For example, if we were given a list [1,2,3], then your function should return [3,5], containing the first number as 3 (1 + 2=3) and second element as 5 (2 + 3=5).\n"
   ]
  },
  {
   "cell_type": "code",
   "execution_count": 6,
   "metadata": {},
   "outputs": [],
   "source": [
    "# Solution for Q4\n",
    "\n",
    "\n",
    "\n"
   ]
  },
  {
   "cell_type": "code",
   "execution_count": 7,
   "metadata": {},
   "outputs": [],
   "source": [
    "# Testing code for Q4\n",
    "\n",
    "a = [7,5,6,45,23,1,4,90]\n",
    "\n",
    "\n"
   ]
  },
  {
   "cell_type": "markdown",
   "metadata": {},
   "source": [
    "## [Dictionaries and Functions]\n",
    "\n",
    "### Q5:\n",
    "\n",
    "Write a function that takes a list of numbers and returns a dictionary containing the numbers as keys and their squares as values. Note that your function should work fine even if list contains repeated numbers. \n",
    "\n",
    "Test your program on the following lists  \n",
    "\n",
    "        a = [7, 5, 6, 45, 23, 1, 4, 90]\n",
    "        \n",
    "        b = [ 3, 5, 79, 4, 3, 81, 22]\n",
    "\n",
    "\n",
    "**Hint** \n",
    "\n",
    "For example, if we were given a list [1,2,3], then your function should return a dictionary containing keys and values as: { 1: 1, 2: 4, 3: 9 }. \n"
   ]
  },
  {
   "cell_type": "code",
   "execution_count": null,
   "metadata": {},
   "outputs": [],
   "source": [
    "# Solution for the Q6\n",
    "\n",
    "\n",
    "\n"
   ]
  },
  {
   "cell_type": "code",
   "execution_count": 11,
   "metadata": {},
   "outputs": [],
   "source": [
    "# Test your code for the following lists\n",
    "\n",
    "a = [7, 5, 6, 45, 23, 1, 4, 90]\n",
    "        \n",
    "b = [ 3, 5, 79, 4, 3, 81, 22]\n",
    "\n",
    "\n",
    "\n"
   ]
  },
  {
   "cell_type": "markdown",
   "metadata": {},
   "source": [
    "## [Lists and Strings]\n",
    "\n",
    "### Q6:\n",
    "\n",
    "Write a Python function that calculates the average word length in a sentence entered by the user.\n",
    " \n",
    "\n",
    "\n",
    "**Hint** \n",
    "\n",
    "First split the given string by space as delimiter as follow, which gives you a list as shown in the following code."
   ]
  },
  {
   "cell_type": "code",
   "execution_count": 1,
   "metadata": {},
   "outputs": [
    {
     "name": "stdout",
     "output_type": "stream",
     "text": [
      "['Hello', 'Data', 'Analytics', 'with', 'Python', 'Course']\n"
     ]
    }
   ],
   "source": [
    "# sample code\n",
    "\n",
    "sentence  = 'Hello Data Analytics with Python Course'\n",
    "\n",
    "ls = sentence.split(' ')\n",
    "\n",
    "print(ls)"
   ]
  },
  {
   "cell_type": "code",
   "execution_count": 16,
   "metadata": {},
   "outputs": [],
   "source": [
    "# Solution for Q6\n",
    "\n",
    "\n",
    "\n",
    "\n"
   ]
  }
 ],
 "metadata": {
  "kernelspec": {
   "display_name": "Python 3 (ipykernel)",
   "language": "python",
   "name": "python3"
  },
  "language_info": {
   "codemirror_mode": {
    "name": "ipython",
    "version": 3
   },
   "file_extension": ".py",
   "mimetype": "text/x-python",
   "name": "python",
   "nbconvert_exporter": "python",
   "pygments_lexer": "ipython3",
   "version": "3.9.7"
  }
 },
 "nbformat": 4,
 "nbformat_minor": 2
}
